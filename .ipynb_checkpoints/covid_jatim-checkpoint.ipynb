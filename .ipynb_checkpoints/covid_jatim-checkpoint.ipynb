{
 "cells": [
  {
   "cell_type": "code",
   "execution_count": 291,
   "metadata": {},
   "outputs": [],
   "source": [
    "import json\n",
    "import re\n",
    "import requests\n",
    "import pandas as pd\n",
    "from bs4 import BeautifulSoup\n",
    "\n",
    "class Jatim:\n",
    "    \n",
    "    def __init__(self, url):\n",
    "        self.url = url\n",
    "    \n",
    "    def get_content(self):\n",
    "        url = self.url\n",
    "        res = requests.get(url)\n",
    "        content = BeautifulSoup(res.content, features='html.parser')\n",
    "        src = content.find_all('script')\n",
    "        \n",
    "        return src\n",
    "    \n",
    "    def get_kabupaten_data(self):\n",
    "        src = self.get_content()\n",
    "        kab = [x for x in src if \"datakabupaten\" in x.text][0].text\n",
    "        kab = [x for x in kab.split('datakabupaten') if x.startswith('=[')][0]\n",
    "        kab = kab.split('\\n')[0]\n",
    "        kab = re.split(r'[=\\[\\];]', kab)\n",
    "        kab = [x for x in kab if len(x) > 0][0]\n",
    "        kab = [x + '}' for x in kab.split('},')]\n",
    "        kabs = []\n",
    "        fail = []\n",
    "        for k in kab:\n",
    "            try:\n",
    "                kabs.append(json.loads(k))\n",
    "            except json.JSONDecodeError:\n",
    "                fail.append(k)\n",
    "        kabs.append(json.loads(fail[0][:-1]))\n",
    "        \n",
    "        return kabs\n",
    "    \n",
    "def main():\n",
    "    jatim = Jatim('https://covid19dev.jatimprov.go.id/xweb/draxi')\n",
    "    df = pd.DataFrame(jatim.get_kabupaten_data())\n",
    "\n",
    "    return df.to_csv('covid-jatim.csv', index=False)\n",
    "\n",
    "if __name__ == '__main__':\n",
    "    main()"
   ]
  }
 ],
 "metadata": {
  "kernelspec": {
   "display_name": "Python 3",
   "language": "python",
   "name": "python3"
  },
  "language_info": {
   "codemirror_mode": {
    "name": "ipython",
    "version": 3
   },
   "file_extension": ".py",
   "mimetype": "text/x-python",
   "name": "python",
   "nbconvert_exporter": "python",
   "pygments_lexer": "ipython3",
   "version": "3.8.1"
  }
 },
 "nbformat": 4,
 "nbformat_minor": 4
}
